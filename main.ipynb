{
 "cells": [
  {
   "cell_type": "code",
   "execution_count": 1,
   "metadata": {},
   "outputs": [],
   "source": [
    "import os\n",
    "import zipfile\n",
    "import shutil"
   ]
  },
  {
   "cell_type": "code",
   "execution_count": 4,
   "metadata": {},
   "outputs": [],
   "source": [
    "def unzip():\n",
    "  with zipfile.ZipFile('.scratch/self-driving-cars.zip', 'r') as zip_ref:\n",
    "    zip_ref.extractall('.scratch/data')"
   ]
  },
  {
   "cell_type": "code",
   "execution_count": 5,
   "metadata": {},
   "outputs": [],
   "source": [
    "data_directory = '.scratch/data'\n",
    "def remove_duplicate_folders():\n",
    "\n",
    "  for root, dirs, files in os.walk(data_directory, topdown=False):\n",
    "      # Skip the base folder itself\n",
    "      if root == data_directory:\n",
    "          continue\n",
    "      \n",
    "      parent_folder = os.path.dirname(root)\n",
    "      folder_name = os.path.basename(root)\n",
    "      \n",
    "      # Check if the parent folder's name matches the current folder's name\n",
    "      if os.path.basename(parent_folder) == folder_name:\n",
    "          # Move all files and directories from the current folder to the parent folder\n",
    "          for name in files:\n",
    "              shutil.move(os.path.join(root, name), os.path.join(parent_folder, name))\n",
    "          for name in dirs:\n",
    "              shutil.move(os.path.join(root, name), os.path.join(parent_folder, name))\n",
    "          \n",
    "          # Delete the now-empty folder\n",
    "          os.rmdir(root)\n",
    "          print(f\"Moved contents and removed: {root}\")"
   ]
  },
  {
   "cell_type": "code",
   "execution_count": 6,
   "metadata": {},
   "outputs": [
    {
     "name": "stdout",
     "output_type": "stream",
     "text": [
      "'.scratch/data' folder does not exist. Downloading data...\n"
     ]
    },
    {
     "name": "stderr",
     "output_type": "stream",
     "text": [
      "\n",
      " 98%|█████████▊| 878M/892M [00:00<?, ?B/s]\n",
      " 99%|█████████▊| 879M/892M [00:00<00:09, 1.50MB/s]\n",
      " 99%|█████████▊| 880M/892M [00:00<00:05, 2.41MB/s]\n",
      " 99%|█████████▉| 881M/892M [00:01<00:03, 3.00MB/s]\n",
      " 99%|█████████▉| 882M/892M [00:01<00:03, 3.39MB/s]\n",
      " 99%|█████████▉| 883M/892M [00:01<00:02, 3.71MB/s]\n",
      " 99%|█████████▉| 884M/892M [00:01<00:02, 3.75MB/s]\n",
      " 99%|█████████▉| 885M/892M [00:02<00:01, 4.11MB/s]\n",
      " 99%|█████████▉| 886M/892M [00:02<00:01, 4.35MB/s]\n",
      " 99%|█████████▉| 887M/892M [00:02<00:01, 4.48MB/s]\n",
      "100%|█████████▉| 888M/892M [00:02<00:00, 4.62MB/s]\n",
      "100%|█████████▉| 889M/892M [00:03<00:00, 4.60MB/s]\n",
      "100%|█████████▉| 890M/892M [00:03<00:00, 4.74MB/s]\n",
      "100%|█████████▉| 891M/892M [00:03<00:00, 4.85MB/s]\n",
      "100%|██████████| 892M/892M [00:03<00:00, 4.82MB/s]\n",
      "100%|██████████| 892M/892M [00:03<00:00, 4.01MB/s]\n"
     ]
    },
    {
     "name": "stdout",
     "output_type": "stream",
     "text": [
      "Dataset URL: https://www.kaggle.com/datasets/alincijov/self-driving-cars\n",
      "License(s): CC0-1.0\n",
      "Downloading self-driving-cars.zip to .scratch\n",
      "... resuming from 920649728 bytes (14603644 bytes left) ...\n",
      "\n"
     ]
    }
   ],
   "source": [
    "if not os.path.exists(data_directory):\n",
    "    print(f\"'{data_directory}' folder does not exist. Downloading data...\")\n",
    "    !kaggle datasets download -d alincijov/self-driving-cars -p .scratch/\n",
    "    \n",
    "    unzip()\n",
    "    remove_duplicate_folders()\n",
    "else:\n",
    "    print(f\"'{data_directory}' folder already exists. No action needed.\")"
   ]
  },
  {
   "cell_type": "code",
   "execution_count": null,
   "metadata": {},
   "outputs": [],
   "source": [
    "# !wandb login"
   ]
  }
 ],
 "metadata": {
  "kernelspec": {
   "display_name": "env",
   "language": "python",
   "name": "python3"
  },
  "language_info": {
   "codemirror_mode": {
    "name": "ipython",
    "version": 3
   },
   "file_extension": ".py",
   "mimetype": "text/x-python",
   "name": "python",
   "nbconvert_exporter": "python",
   "pygments_lexer": "ipython3",
   "version": "3.9.7"
  }
 },
 "nbformat": 4,
 "nbformat_minor": 2
}
