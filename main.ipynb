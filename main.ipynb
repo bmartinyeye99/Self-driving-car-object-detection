{
 "cells": [
  {
   "cell_type": "code",
   "metadata": {
    "ExecuteTime": {
     "end_time": "2024-04-22T08:38:32.413739Z",
     "start_time": "2024-04-22T08:37:54.707550Z"
    }
   },
   "source": [
    "import os\n",
    "import zipfile\n",
    "import shutil\n",
    "from dataset import create_dataset"
   ],
   "outputs": [],
   "execution_count": 1
  },
  {
   "cell_type": "code",
   "metadata": {
    "ExecuteTime": {
     "end_time": "2024-04-22T08:38:32.429778Z",
     "start_time": "2024-04-22T08:38:32.416781Z"
    }
   },
   "source": [
    "def unzip():\n",
    "  with zipfile.ZipFile('.scratch/self-driving-cars.zip', 'r') as zip_ref:\n",
    "    zip_ref.extractall('.scratch/data')"
   ],
   "outputs": [],
   "execution_count": 2
  },
  {
   "cell_type": "code",
   "metadata": {
    "ExecuteTime": {
     "end_time": "2024-04-22T08:38:42.323443Z",
     "start_time": "2024-04-22T08:38:42.312446Z"
    }
   },
   "source": [
    "data_directory = '.scratch/data'\n",
    "def remove_duplicate_folders():\n",
    "\n",
    "  for root, dirs, files in os.walk(data_directory, topdown=False):\n",
    "      # Skip the base folder itself\n",
    "      if root == data_directory:\n",
    "          continue\n",
    "      \n",
    "      parent_folder = os.path.dirname(root)\n",
    "      folder_name = os.path.basename(root)\n",
    "      \n",
    "      # Check if the parent folder's name matches the current folder's name\n",
    "      if os.path.basename(parent_folder) == folder_name:\n",
    "          # Move all files and directories from the current folder to the parent folder\n",
    "          for name in files:\n",
    "              shutil.move(os.path.join(root, name), os.path.join(parent_folder, name))\n",
    "          for name in dirs:\n",
    "              shutil.move(os.path.join(root, name), os.path.join(parent_folder, name))\n",
    "          \n",
    "          # Delete the now-empty folder\n",
    "          os.rmdir(root)\n",
    "          print(f\"Moved contents and removed: {root}\")"
   ],
   "outputs": [],
   "execution_count": 4
  },
  {
   "cell_type": "code",
   "metadata": {
    "ExecuteTime": {
     "end_time": "2024-04-22T08:38:43.286567Z",
     "start_time": "2024-04-22T08:38:43.274570Z"
    }
   },
   "source": [
    "if not os.path.exists(data_directory):\n",
    "    print(f\"'{data_directory}' folder does not exist. Downloading data...\")\n",
    "    !kaggle datasets download -d alincijov/self-driving-cars -p .scratch/\n",
    "    \n",
    "    unzip()\n",
    "    remove_duplicate_folders()\n",
    "else:\n",
    "    print(f\"'{data_directory}' folder already exists. No action needed.\")\n",
    "    "
   ],
   "outputs": [
    {
     "name": "stdout",
     "output_type": "stream",
     "text": [
      "'.scratch/data' folder already exists. No action needed.\n"
     ]
    }
   ],
   "execution_count": 5
  },
  {
   "metadata": {
    "ExecuteTime": {
     "end_time": "2024-04-22T08:39:04.868396Z",
     "start_time": "2024-04-22T08:38:57.247123Z"
    }
   },
   "cell_type": "code",
   "source": [
    "# Start a new training experiment\n",
    "from argparse import Namespace\n",
    "from experiment import Experiment\n"
   ],
   "outputs": [],
   "execution_count": 6
  },
  {
   "metadata": {},
   "cell_type": "code",
   "outputs": [],
   "execution_count": null,
   "source": ""
  }
 ],
 "metadata": {
  "kernelspec": {
   "display_name": "env",
   "language": "python",
   "name": "python3"
  },
  "language_info": {
   "codemirror_mode": {
    "name": "ipython",
    "version": 3
   },
   "file_extension": ".py",
   "mimetype": "text/x-python",
   "name": "python",
   "nbconvert_exporter": "python",
   "pygments_lexer": "ipython3",
   "version": "3.9.7"
  }
 },
 "nbformat": 4,
 "nbformat_minor": 2
}
