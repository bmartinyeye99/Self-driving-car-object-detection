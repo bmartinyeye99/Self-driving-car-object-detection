{
 "cells": [
  {
   "cell_type": "code",
   "execution_count": null,
   "metadata": {},
   "outputs": [],
   "source": [
    "import torch\n",
    "import torch.nn as nn\n",
    "from argparse import Namespace\n",
    "\n",
    "from loss import YoloLoss\n",
    "\n",
    "classes_names = ['car', 'truck', 'pedestrian', 'bicyclist', 'light']\n",
    "S = 15\n",
    "C = len(classes_names)\n",
    "\n",
    "# Configuration\n",
    "cfg = Namespace(\n",
    "  device = \"cuda\" if torch.cuda.is_available() else \"cpu\",\n",
    "\n",
    "  # Wandb\n",
    "  use_wandb = False,\n",
    "  project_name = 'Object detection testing',\n",
    "\n",
    "  # Dataset params\n",
    "  classes_names = classes_names,\n",
    "  S = S,\n",
    "  C = C,\n",
    "\n",
    "  # Data module params\n",
    "  batch_size = 32,\n",
    "  num_workers = 3,\n",
    "  pin_memory = torch.cuda.is_available(),\n",
    "\n",
    "  # Image resolution\n",
    "  image_width = 480,\n",
    "  image_height = 300,\n",
    "\n",
    "  # Training params\n",
    "  max_epochs = 20,\n",
    "  learning_rate = 1e-6,\n",
    "  loss_fn = YoloLoss(C),\n",
    "\n",
    "  # Model params\n",
    "  num_hidden = 2048,\n",
    "  chin = 3, \n",
    "  channels = 8,\n",
    "  max_grad_norm = 2.0,\n",
    "  dropout_rate = 0.15,\n",
    "  negative_slope = 0.01,\n",
    "\n",
    "  #Metrics params\n",
    "  iou_threshold = 0.5,\n",
    "  threshold = 0.4,\n",
    ")"
   ]
  },
  {
   "cell_type": "code",
   "execution_count": null,
   "metadata": {},
   "outputs": [],
   "source": [
    "if cfg.use_wandb:\n",
    "  !wandb login"
   ]
  },
  {
   "cell_type": "code",
   "execution_count": null,
   "metadata": {},
   "outputs": [],
   "source": [
    "from experiment import Experiment\n",
    "experiment = Experiment(cfg)\n",
    "experiment.train()"
   ]
  }
 ],
 "metadata": {
  "kernelspec": {
   "display_name": "env",
   "language": "python",
   "name": "python3"
  },
  "language_info": {
   "codemirror_mode": {
    "name": "ipython",
    "version": 3
   },
   "file_extension": ".py",
   "mimetype": "text/x-python",
   "name": "python",
   "nbconvert_exporter": "python",
   "pygments_lexer": "ipython3",
   "version": "3.12.2"
  }
 },
 "nbformat": 4,
 "nbformat_minor": 2
}
